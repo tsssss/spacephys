{
 "cells": [
  {
   "attachments": {},
   "cell_type": "markdown",
   "metadata": {},
   "source": [
    "# Visualize the L2 sector flux and magnetic field in 3D.\n",
    "\n",
    "IDL doesn't have the proper visualziation tool for doing this."
   ]
  },
  {
   "cell_type": "code",
   "execution_count": null,
   "metadata": {},
   "outputs": [],
   "source": [
    "# Load data.\n",
    "time_range = ['2013-05-01','2013-05-02']\n",
    "probe = 'b'\n",
    "species = 'p'\n",
    "\n",
    "\n"
   ]
  }
 ],
 "metadata": {
  "kernelspec": {
   "display_name": "ml",
   "language": "python",
   "name": "python3"
  },
  "language_info": {
   "name": "python",
   "version": "3.9.13"
  },
  "orig_nbformat": 4,
  "vscode": {
   "interpreter": {
    "hash": "ca1916012cd2dd953dedebcdb683397e8ef3edee0fc6b155046a979bd5044a76"
   }
  }
 },
 "nbformat": 4,
 "nbformat_minor": 2
}
